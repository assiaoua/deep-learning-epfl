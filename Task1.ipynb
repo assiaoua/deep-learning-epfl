{
 "cells": [
  {
   "cell_type": "code",
   "execution_count": 1,
   "metadata": {},
   "outputs": [],
   "source": [
    "import instaloader"
   ]
  },
  {
   "cell_type": "code",
   "execution_count": 26,
   "metadata": {},
   "outputs": [
    {
     "ename": "TypeError",
     "evalue": "from_name() takes 3 positional arguments but 4 were given",
     "output_type": "error",
     "traceback": [
      "\u001b[0;31m---------------------------------------------------------------------------\u001b[0m",
      "\u001b[0;31mTypeError\u001b[0m                                 Traceback (most recent call last)",
      "\u001b[1;32m/Users/marie-alix/Documents/EPFL_2021_22/Deep Learning/serie1.ipynb Cell 3'\u001b[0m in \u001b[0;36m<module>\u001b[0;34m\u001b[0m\n\u001b[1;32m      <a href='vscode-notebook-cell:/Users/marie-alix/Documents/EPFL_2021_22/Deep%20Learning/serie1.ipynb#ch0000004?line=3'>4</a>\u001b[0m L\u001b[39m.\u001b[39mlogin(user\u001b[39m=\u001b[39m\u001b[39m\"\u001b[39m\u001b[39mdataviz2022\u001b[39m\u001b[39m\"\u001b[39m, passwd\u001b[39m=\u001b[39m\u001b[39m\"\u001b[39m\u001b[39mdataviz2022!\u001b[39m\u001b[39m\"\u001b[39m)\n\u001b[1;32m      <a href='vscode-notebook-cell:/Users/marie-alix/Documents/EPFL_2021_22/Deep%20Learning/serie1.ipynb#ch0000004?line=5'>6</a>\u001b[0m \u001b[39m# Load the hashtag object into a variable\u001b[39;00m\n\u001b[0;32m----> <a href='vscode-notebook-cell:/Users/marie-alix/Documents/EPFL_2021_22/Deep%20Learning/serie1.ipynb#ch0000004?line=6'>7</a>\u001b[0m hashtag \u001b[39m=\u001b[39m instaloader\u001b[39m.\u001b[39;49mHashtag\u001b[39m.\u001b[39;49mfrom_name(L\u001b[39m.\u001b[39;49mcontext, \u001b[39m\"\u001b[39;49m\u001b[39mstreetart\u001b[39;49m\u001b[39m\"\u001b[39;49m, \u001b[39m\"\u001b[39;49m\u001b[39mstreetart\u001b[39;49m\u001b[39m\"\u001b[39;49m)\n\u001b[1;32m      <a href='vscode-notebook-cell:/Users/marie-alix/Documents/EPFL_2021_22/Deep%20Learning/serie1.ipynb#ch0000004?line=7'>8</a>\u001b[0m \u001b[39m# Get top posts in a generator\u001b[39;00m\n\u001b[1;32m      <a href='vscode-notebook-cell:/Users/marie-alix/Documents/EPFL_2021_22/Deep%20Learning/serie1.ipynb#ch0000004?line=8'>9</a>\u001b[0m posts \u001b[39m=\u001b[39m hashtag\u001b[39m.\u001b[39mget_top_posts()\n",
      "\u001b[0;31mTypeError\u001b[0m: from_name() takes 3 positional arguments but 4 were given"
     ]
    }
   ],
   "source": [
    "L = instaloader.Instaloader(download_pictures=True,download_videos=False,download_comments=True,save_metadata=True, download_geotags=True)\n",
    "\n",
    "# Login\n",
    "L.login(user=\"dataviz2022\", passwd=\"dataviz2022!\")\n",
    "\n",
    "# Load the hashtag object into a variable\n",
    "hashtag = instaloader.Hashtag.from_name(L.context, \"streetart\", \"streetart\")\n",
    "# Get top posts in a generator\n",
    "posts = hashtag.get_top_posts()\n",
    "for index in range(1, 11):\n",
    "    try:\n",
    "            # Download the post\n",
    "        L.download_post(next(posts), target=f'{\"streetart\"}_{index}')\n",
    "    except:\n",
    "        break # If there are any errors, we break out of the loop\n"
   ]
  },
  {
   "cell_type": "code",
   "execution_count": 4,
   "metadata": {},
   "outputs": [
    {
     "ename": "KeyError",
     "evalue": "'graphql'",
     "output_type": "error",
     "traceback": [
      "\u001b[0;31m---------------------------------------------------------------------------\u001b[0m",
      "\u001b[0;31mKeyError\u001b[0m                                  Traceback (most recent call last)",
      "\u001b[1;32m/Users/marie-alix/Documents/EPFL_2021_22/Deep Learning/serie1.ipynb Cell 3'\u001b[0m in \u001b[0;36m<module>\u001b[0;34m\u001b[0m\n\u001b[1;32m      <a href='vscode-notebook-cell:/Users/marie-alix/Documents/EPFL_2021_22/Deep%20Learning/serie1.ipynb#ch0000005?line=7'>8</a>\u001b[0m L\u001b[39m.\u001b[39mlogin(user\u001b[39m=\u001b[39m\u001b[39m\"\u001b[39m\u001b[39mdataviz2022\u001b[39m\u001b[39m\"\u001b[39m, passwd\u001b[39m=\u001b[39m\u001b[39m\"\u001b[39m\u001b[39mdataviz2022!\u001b[39m\u001b[39m\"\u001b[39m)\n\u001b[1;32m     <a href='vscode-notebook-cell:/Users/marie-alix/Documents/EPFL_2021_22/Deep%20Learning/serie1.ipynb#ch0000005?line=9'>10</a>\u001b[0m \u001b[39m# Hashtag object\u001b[39;00m\n\u001b[0;32m---> <a href='vscode-notebook-cell:/Users/marie-alix/Documents/EPFL_2021_22/Deep%20Learning/serie1.ipynb#ch0000005?line=10'>11</a>\u001b[0m hashtags \u001b[39m=\u001b[39m instaloader\u001b[39m.\u001b[39;49mHashtag\u001b[39m.\u001b[39;49mfrom_name(L\u001b[39m.\u001b[39;49mcontext, \u001b[39m'\u001b[39;49m\u001b[39mstreetart\u001b[39;49m\u001b[39m'\u001b[39;49m)\u001b[39m.\u001b[39mget_posts()\n\u001b[1;32m     <a href='vscode-notebook-cell:/Users/marie-alix/Documents/EPFL_2021_22/Deep%20Learning/serie1.ipynb#ch0000005?line=12'>13</a>\u001b[0m \u001b[39m# Download Period\u001b[39;00m\n\u001b[1;32m     <a href='vscode-notebook-cell:/Users/marie-alix/Documents/EPFL_2021_22/Deep%20Learning/serie1.ipynb#ch0000005?line=13'>14</a>\u001b[0m SINCE \u001b[39m=\u001b[39m datetime(\u001b[39m2010\u001b[39m, \u001b[39m5\u001b[39m, \u001b[39m1\u001b[39m)\n",
      "File \u001b[0;32m~/Library/Python/3.8/lib/python/site-packages/instaloader/structures.py:1381\u001b[0m, in \u001b[0;36mHashtag.from_name\u001b[0;34m(cls, context, name)\u001b[0m\n\u001b[1;32m   <a href='file:///Users/marie-alix/Library/Python/3.8/lib/python/site-packages/instaloader/structures.py?line=1378'>1379</a>\u001b[0m \u001b[39m# pylint:disable=protected-access\u001b[39;00m\n\u001b[1;32m   <a href='file:///Users/marie-alix/Library/Python/3.8/lib/python/site-packages/instaloader/structures.py?line=1379'>1380</a>\u001b[0m hashtag \u001b[39m=\u001b[39m \u001b[39mcls\u001b[39m(context, {\u001b[39m'\u001b[39m\u001b[39mname\u001b[39m\u001b[39m'\u001b[39m: name\u001b[39m.\u001b[39mlower()})\n\u001b[0;32m-> <a href='file:///Users/marie-alix/Library/Python/3.8/lib/python/site-packages/instaloader/structures.py?line=1380'>1381</a>\u001b[0m hashtag\u001b[39m.\u001b[39;49m_obtain_metadata()\n\u001b[1;32m   <a href='file:///Users/marie-alix/Library/Python/3.8/lib/python/site-packages/instaloader/structures.py?line=1381'>1382</a>\u001b[0m \u001b[39mreturn\u001b[39;00m hashtag\n",
      "File \u001b[0;32m~/Library/Python/3.8/lib/python/site-packages/instaloader/structures.py:1395\u001b[0m, in \u001b[0;36mHashtag._obtain_metadata\u001b[0;34m(self)\u001b[0m\n\u001b[1;32m   <a href='file:///Users/marie-alix/Library/Python/3.8/lib/python/site-packages/instaloader/structures.py?line=1392'>1393</a>\u001b[0m \u001b[39mdef\u001b[39;00m \u001b[39m_obtain_metadata\u001b[39m(\u001b[39mself\u001b[39m):\n\u001b[1;32m   <a href='file:///Users/marie-alix/Library/Python/3.8/lib/python/site-packages/instaloader/structures.py?line=1393'>1394</a>\u001b[0m     \u001b[39mif\u001b[39;00m \u001b[39mnot\u001b[39;00m \u001b[39mself\u001b[39m\u001b[39m.\u001b[39m_has_full_metadata:\n\u001b[0;32m-> <a href='file:///Users/marie-alix/Library/Python/3.8/lib/python/site-packages/instaloader/structures.py?line=1394'>1395</a>\u001b[0m         \u001b[39mself\u001b[39m\u001b[39m.\u001b[39m_node \u001b[39m=\u001b[39m \u001b[39mself\u001b[39;49m\u001b[39m.\u001b[39;49m_query({\u001b[39m\"\u001b[39;49m\u001b[39m__a\u001b[39;49m\u001b[39m\"\u001b[39;49m: \u001b[39m1\u001b[39;49m})\n\u001b[1;32m   <a href='file:///Users/marie-alix/Library/Python/3.8/lib/python/site-packages/instaloader/structures.py?line=1395'>1396</a>\u001b[0m         \u001b[39mself\u001b[39m\u001b[39m.\u001b[39m_has_full_metadata \u001b[39m=\u001b[39m \u001b[39mTrue\u001b[39;00m\n",
      "File \u001b[0;32m~/Library/Python/3.8/lib/python/site-packages/instaloader/structures.py:1390\u001b[0m, in \u001b[0;36mHashtag._query\u001b[0;34m(self, params)\u001b[0m\n\u001b[1;32m   <a href='file:///Users/marie-alix/Library/Python/3.8/lib/python/site-packages/instaloader/structures.py?line=1388'>1389</a>\u001b[0m \u001b[39mdef\u001b[39;00m \u001b[39m_query\u001b[39m(\u001b[39mself\u001b[39m, params):\n\u001b[0;32m-> <a href='file:///Users/marie-alix/Library/Python/3.8/lib/python/site-packages/instaloader/structures.py?line=1389'>1390</a>\u001b[0m     \u001b[39mreturn\u001b[39;00m \u001b[39mself\u001b[39;49m\u001b[39m.\u001b[39;49m_context\u001b[39m.\u001b[39;49mget_json(\u001b[39m\"\u001b[39;49m\u001b[39mexplore/tags/\u001b[39;49m\u001b[39m{0}\u001b[39;49;00m\u001b[39m/\u001b[39;49m\u001b[39m\"\u001b[39;49m\u001b[39m.\u001b[39;49mformat(\u001b[39mself\u001b[39;49m\u001b[39m.\u001b[39;49mname),\n\u001b[1;32m   <a href='file:///Users/marie-alix/Library/Python/3.8/lib/python/site-packages/instaloader/structures.py?line=1390'>1391</a>\u001b[0m                                   params)[\u001b[39m\"\u001b[39;49m\u001b[39mgraphql\u001b[39;49m\u001b[39m\"\u001b[39;49m][\u001b[39m\"\u001b[39m\u001b[39mhashtag\u001b[39m\u001b[39m\"\u001b[39m]\n",
      "\u001b[0;31mKeyError\u001b[0m: 'graphql'"
     ]
    }
   ],
   "source": [
    "from datetime import datetime\n",
    "from itertools import dropwhile, takewhile\n",
    "\n",
    "# Use parameters to save diffrent metadata\n",
    "L = instaloader.Instaloader(download_pictures=True,download_videos=False,download_comments=True,save_metadata=True, download_geotags=True)\n",
    "\n",
    "# Login\n",
    "L.login(user=\"dataviz2022\", passwd=\"dataviz2022!\")\n",
    "\n",
    "# Hashtag object\n",
    "hashtags = instaloader.Hashtag.from_name(L.context, 'streetart').get_posts()\n",
    "\n",
    "# Download Period\n",
    "SINCE = datetime(2010, 5, 1)\n",
    "UNTIL = datetime(2020, 3, 1)\n",
    "\n",
    "no_of_downloads = 0\n",
    "for post in takewhile(lambda p: p.date > UNTIL, dropwhile(lambda p: p.date > SINCE, hashtags)):\n",
    "    if no_of_downloads == 10:\n",
    "        break\n",
    "    print(post.date)\n",
    "    L.download_post(post, '#streetart')\n",
    "    no_of_downloads += 1"
   ]
  },
  {
   "cell_type": "code",
   "execution_count": 28,
   "metadata": {},
   "outputs": [
    {
     "ename": "KeyError",
     "evalue": "'graphql'",
     "output_type": "error",
     "traceback": [
      "\u001b[0;31m---------------------------------------------------------------------------\u001b[0m",
      "\u001b[0;31mKeyError\u001b[0m                                  Traceback (most recent call last)",
      "\u001b[1;32m/Users/marie-alix/Documents/EPFL_2021_22/Deep Learning/serie1.ipynb Cell 5'\u001b[0m in \u001b[0;36m<module>\u001b[0;34m\u001b[0m\n\u001b[1;32m      <a href='vscode-notebook-cell:/Users/marie-alix/Documents/EPFL_2021_22/Deep%20Learning/serie1.ipynb#ch0000006?line=5'>6</a>\u001b[0m \u001b[39m# Login\u001b[39;00m\n\u001b[1;32m      <a href='vscode-notebook-cell:/Users/marie-alix/Documents/EPFL_2021_22/Deep%20Learning/serie1.ipynb#ch0000006?line=6'>7</a>\u001b[0m L\u001b[39m.\u001b[39mlogin(user\u001b[39m=\u001b[39m\u001b[39m\"\u001b[39m\u001b[39mdataviz2022\u001b[39m\u001b[39m\"\u001b[39m, passwd\u001b[39m=\u001b[39m\u001b[39m\"\u001b[39m\u001b[39mdataviz2022!\u001b[39m\u001b[39m\"\u001b[39m)\n\u001b[0;32m----> <a href='vscode-notebook-cell:/Users/marie-alix/Documents/EPFL_2021_22/Deep%20Learning/serie1.ipynb#ch0000006?line=8'>9</a>\u001b[0m \u001b[39mfor\u001b[39;00m post \u001b[39min\u001b[39;00m L\u001b[39m.\u001b[39;49mget_hashtag_posts(\u001b[39m\"\u001b[39;49m\u001b[39mstreetart\u001b[39;49m\u001b[39m\"\u001b[39;49m):\n\u001b[1;32m     <a href='vscode-notebook-cell:/Users/marie-alix/Documents/EPFL_2021_22/Deep%20Learning/serie1.ipynb#ch0000006?line=9'>10</a>\u001b[0m     L\u001b[39m.\u001b[39mdownload_post(post, target\u001b[39m=\u001b[39m\u001b[39m\"\u001b[39m\u001b[39m#streetart\u001b[39m\u001b[39m\"\u001b[39m)\n",
      "File \u001b[0;32m~/Library/Python/3.8/lib/python/site-packages/instaloader/instaloader.py:1151\u001b[0m, in \u001b[0;36mInstaloader.get_hashtag_posts\u001b[0;34m(self, hashtag)\u001b[0m\n\u001b[1;32m   <a href='file:///Users/marie-alix/Library/Python/3.8/lib/python/site-packages/instaloader/instaloader.py?line=1145'>1146</a>\u001b[0m \u001b[39mdef\u001b[39;00m \u001b[39mget_hashtag_posts\u001b[39m(\u001b[39mself\u001b[39m, hashtag: \u001b[39mstr\u001b[39m) \u001b[39m-\u001b[39m\u001b[39m>\u001b[39m Iterator[Post]:\n\u001b[1;32m   <a href='file:///Users/marie-alix/Library/Python/3.8/lib/python/site-packages/instaloader/instaloader.py?line=1146'>1147</a>\u001b[0m     \u001b[39m\"\"\"Get Posts associated with a #hashtag.\u001b[39;00m\n\u001b[1;32m   <a href='file:///Users/marie-alix/Library/Python/3.8/lib/python/site-packages/instaloader/instaloader.py?line=1147'>1148</a>\u001b[0m \n\u001b[1;32m   <a href='file:///Users/marie-alix/Library/Python/3.8/lib/python/site-packages/instaloader/instaloader.py?line=1148'>1149</a>\u001b[0m \u001b[39m    .. deprecated:: 4.4\u001b[39;00m\n\u001b[1;32m   <a href='file:///Users/marie-alix/Library/Python/3.8/lib/python/site-packages/instaloader/instaloader.py?line=1149'>1150</a>\u001b[0m \u001b[39m       Use :meth:`Hashtag.get_posts`.\"\"\"\u001b[39;00m\n\u001b[0;32m-> <a href='file:///Users/marie-alix/Library/Python/3.8/lib/python/site-packages/instaloader/instaloader.py?line=1150'>1151</a>\u001b[0m     \u001b[39mreturn\u001b[39;00m Hashtag\u001b[39m.\u001b[39;49mfrom_name(\u001b[39mself\u001b[39;49m\u001b[39m.\u001b[39;49mcontext, hashtag)\u001b[39m.\u001b[39mget_posts()\n",
      "File \u001b[0;32m~/Library/Python/3.8/lib/python/site-packages/instaloader/structures.py:1381\u001b[0m, in \u001b[0;36mHashtag.from_name\u001b[0;34m(cls, context, name)\u001b[0m\n\u001b[1;32m   <a href='file:///Users/marie-alix/Library/Python/3.8/lib/python/site-packages/instaloader/structures.py?line=1378'>1379</a>\u001b[0m \u001b[39m# pylint:disable=protected-access\u001b[39;00m\n\u001b[1;32m   <a href='file:///Users/marie-alix/Library/Python/3.8/lib/python/site-packages/instaloader/structures.py?line=1379'>1380</a>\u001b[0m hashtag \u001b[39m=\u001b[39m \u001b[39mcls\u001b[39m(context, {\u001b[39m'\u001b[39m\u001b[39mname\u001b[39m\u001b[39m'\u001b[39m: name\u001b[39m.\u001b[39mlower()})\n\u001b[0;32m-> <a href='file:///Users/marie-alix/Library/Python/3.8/lib/python/site-packages/instaloader/structures.py?line=1380'>1381</a>\u001b[0m hashtag\u001b[39m.\u001b[39;49m_obtain_metadata()\n\u001b[1;32m   <a href='file:///Users/marie-alix/Library/Python/3.8/lib/python/site-packages/instaloader/structures.py?line=1381'>1382</a>\u001b[0m \u001b[39mreturn\u001b[39;00m hashtag\n",
      "File \u001b[0;32m~/Library/Python/3.8/lib/python/site-packages/instaloader/structures.py:1395\u001b[0m, in \u001b[0;36mHashtag._obtain_metadata\u001b[0;34m(self)\u001b[0m\n\u001b[1;32m   <a href='file:///Users/marie-alix/Library/Python/3.8/lib/python/site-packages/instaloader/structures.py?line=1392'>1393</a>\u001b[0m \u001b[39mdef\u001b[39;00m \u001b[39m_obtain_metadata\u001b[39m(\u001b[39mself\u001b[39m):\n\u001b[1;32m   <a href='file:///Users/marie-alix/Library/Python/3.8/lib/python/site-packages/instaloader/structures.py?line=1393'>1394</a>\u001b[0m     \u001b[39mif\u001b[39;00m \u001b[39mnot\u001b[39;00m \u001b[39mself\u001b[39m\u001b[39m.\u001b[39m_has_full_metadata:\n\u001b[0;32m-> <a href='file:///Users/marie-alix/Library/Python/3.8/lib/python/site-packages/instaloader/structures.py?line=1394'>1395</a>\u001b[0m         \u001b[39mself\u001b[39m\u001b[39m.\u001b[39m_node \u001b[39m=\u001b[39m \u001b[39mself\u001b[39;49m\u001b[39m.\u001b[39;49m_query({\u001b[39m\"\u001b[39;49m\u001b[39m__a\u001b[39;49m\u001b[39m\"\u001b[39;49m: \u001b[39m1\u001b[39;49m})\n\u001b[1;32m   <a href='file:///Users/marie-alix/Library/Python/3.8/lib/python/site-packages/instaloader/structures.py?line=1395'>1396</a>\u001b[0m         \u001b[39mself\u001b[39m\u001b[39m.\u001b[39m_has_full_metadata \u001b[39m=\u001b[39m \u001b[39mTrue\u001b[39;00m\n",
      "File \u001b[0;32m~/Library/Python/3.8/lib/python/site-packages/instaloader/structures.py:1390\u001b[0m, in \u001b[0;36mHashtag._query\u001b[0;34m(self, params)\u001b[0m\n\u001b[1;32m   <a href='file:///Users/marie-alix/Library/Python/3.8/lib/python/site-packages/instaloader/structures.py?line=1388'>1389</a>\u001b[0m \u001b[39mdef\u001b[39;00m \u001b[39m_query\u001b[39m(\u001b[39mself\u001b[39m, params):\n\u001b[0;32m-> <a href='file:///Users/marie-alix/Library/Python/3.8/lib/python/site-packages/instaloader/structures.py?line=1389'>1390</a>\u001b[0m     \u001b[39mreturn\u001b[39;00m \u001b[39mself\u001b[39;49m\u001b[39m.\u001b[39;49m_context\u001b[39m.\u001b[39;49mget_json(\u001b[39m\"\u001b[39;49m\u001b[39mexplore/tags/\u001b[39;49m\u001b[39m{0}\u001b[39;49;00m\u001b[39m/\u001b[39;49m\u001b[39m\"\u001b[39;49m\u001b[39m.\u001b[39;49mformat(\u001b[39mself\u001b[39;49m\u001b[39m.\u001b[39;49mname),\n\u001b[1;32m   <a href='file:///Users/marie-alix/Library/Python/3.8/lib/python/site-packages/instaloader/structures.py?line=1390'>1391</a>\u001b[0m                                   params)[\u001b[39m\"\u001b[39;49m\u001b[39mgraphql\u001b[39;49m\u001b[39m\"\u001b[39;49m][\u001b[39m\"\u001b[39m\u001b[39mhashtag\u001b[39m\u001b[39m\"\u001b[39m]\n",
      "\u001b[0;31mKeyError\u001b[0m: 'graphql'"
     ]
    }
   ],
   "source": [
    "\n",
    "\n",
    "\n",
    "for post in L.get_hashtag_posts(\"streetart\"):\n",
    "    L.download_post(post, target=\"#streetart\")"
   ]
  },
  {
   "cell_type": "code",
   "execution_count": 7,
   "metadata": {},
   "outputs": [
    {
     "ename": "QueryReturnedBadRequestException",
     "evalue": "400 Bad Request",
     "output_type": "error",
     "traceback": [
      "\u001b[0;31m---------------------------------------------------------------------------\u001b[0m",
      "\u001b[0;31mQueryReturnedBadRequestException\u001b[0m          Traceback (most recent call last)",
      "\u001b[1;32m/Users/marie-alix/Documents/EPFL_2021_22/Deep Learning/serie1.ipynb Cell 5'\u001b[0m in \u001b[0;36m<module>\u001b[0;34m\u001b[0m\n\u001b[1;32m     <a href='vscode-notebook-cell:/Users/marie-alix/Documents/EPFL_2021_22/Deep%20Learning/serie1.ipynb#ch0000007?line=11'>12</a>\u001b[0m GraphQL_Hash \u001b[39m=\u001b[39m \u001b[39m\"\u001b[39m\u001b[39mstreetart\u001b[39m\u001b[39m\"\u001b[39m\n\u001b[1;32m     <a href='vscode-notebook-cell:/Users/marie-alix/Documents/EPFL_2021_22/Deep%20Learning/serie1.ipynb#ch0000007?line=12'>13</a>\u001b[0m posts \u001b[39m=\u001b[39m []\n\u001b[0;32m---> <a href='vscode-notebook-cell:/Users/marie-alix/Documents/EPFL_2021_22/Deep%20Learning/serie1.ipynb#ch0000007?line=14'>15</a>\u001b[0m post_iterator \u001b[39m=\u001b[39m instaloader\u001b[39m.\u001b[39;49mNodeIterator(\n\u001b[1;32m     <a href='vscode-notebook-cell:/Users/marie-alix/Documents/EPFL_2021_22/Deep%20Learning/serie1.ipynb#ch0000007?line=15'>16</a>\u001b[0m     L\u001b[39m.\u001b[39;49mcontext, GraphQL_Hash,\n\u001b[1;32m     <a href='vscode-notebook-cell:/Users/marie-alix/Documents/EPFL_2021_22/Deep%20Learning/serie1.ipynb#ch0000007?line=16'>17</a>\u001b[0m     \u001b[39mlambda\u001b[39;49;00m d: d[\u001b[39m'\u001b[39;49m\u001b[39mdata\u001b[39;49m\u001b[39m'\u001b[39;49m][\u001b[39m'\u001b[39;49m\u001b[39mhashtag\u001b[39;49m\u001b[39m'\u001b[39;49m][\u001b[39m'\u001b[39;49m\u001b[39medge_hashtag_to_media\u001b[39;49m\u001b[39m'\u001b[39;49m],\n\u001b[1;32m     <a href='vscode-notebook-cell:/Users/marie-alix/Documents/EPFL_2021_22/Deep%20Learning/serie1.ipynb#ch0000007?line=17'>18</a>\u001b[0m     \u001b[39mlambda\u001b[39;49;00m n: instaloader\u001b[39m.\u001b[39;49mPost(L\u001b[39m.\u001b[39;49mcontext, n),\n\u001b[1;32m     <a href='vscode-notebook-cell:/Users/marie-alix/Documents/EPFL_2021_22/Deep%20Learning/serie1.ipynb#ch0000007?line=18'>19</a>\u001b[0m     {\u001b[39m'\u001b[39;49m\u001b[39mtag_name\u001b[39;49m\u001b[39m'\u001b[39;49m: HASHTAG},\n\u001b[1;32m     <a href='vscode-notebook-cell:/Users/marie-alix/Documents/EPFL_2021_22/Deep%20Learning/serie1.ipynb#ch0000007?line=19'>20</a>\u001b[0m     \u001b[39mf\u001b[39;49m\u001b[39m\"\u001b[39;49m\u001b[39mhttps://www.instagram.com/explore/tags/\u001b[39;49m\u001b[39m{\u001b[39;49;00mHASHTAG\u001b[39m}\u001b[39;49;00m\u001b[39m/\u001b[39;49m\u001b[39m\"\u001b[39;49m\n\u001b[1;32m     <a href='vscode-notebook-cell:/Users/marie-alix/Documents/EPFL_2021_22/Deep%20Learning/serie1.ipynb#ch0000007?line=20'>21</a>\u001b[0m )\n\u001b[1;32m     <a href='vscode-notebook-cell:/Users/marie-alix/Documents/EPFL_2021_22/Deep%20Learning/serie1.ipynb#ch0000007?line=22'>23</a>\u001b[0m \u001b[39mdef\u001b[39;00m \u001b[39mgen\u001b[39m(start, end, posts):\n\u001b[1;32m     <a href='vscode-notebook-cell:/Users/marie-alix/Documents/EPFL_2021_22/Deep%20Learning/serie1.ipynb#ch0000007?line=23'>24</a>\u001b[0m     \u001b[39mfor\u001b[39;00m post \u001b[39min\u001b[39;00m posts:\n",
      "File \u001b[0;32m~/Library/Python/3.8/lib/python/site-packages/instaloader/nodeiterator.py:92\u001b[0m, in \u001b[0;36mNodeIterator.__init__\u001b[0;34m(self, context, query_hash, edge_extractor, node_wrapper, query_variables, query_referer, first_data)\u001b[0m\n\u001b[1;32m     <a href='file:///Users/marie-alix/Library/Python/3.8/lib/python/site-packages/instaloader/nodeiterator.py?line=89'>90</a>\u001b[0m     \u001b[39mself\u001b[39m\u001b[39m.\u001b[39m_best_before \u001b[39m=\u001b[39m datetime\u001b[39m.\u001b[39mnow() \u001b[39m+\u001b[39m NodeIterator\u001b[39m.\u001b[39m_shelf_life\n\u001b[1;32m     <a href='file:///Users/marie-alix/Library/Python/3.8/lib/python/site-packages/instaloader/nodeiterator.py?line=90'>91</a>\u001b[0m \u001b[39melse\u001b[39;00m:\n\u001b[0;32m---> <a href='file:///Users/marie-alix/Library/Python/3.8/lib/python/site-packages/instaloader/nodeiterator.py?line=91'>92</a>\u001b[0m     \u001b[39mself\u001b[39m\u001b[39m.\u001b[39m_data \u001b[39m=\u001b[39m \u001b[39mself\u001b[39;49m\u001b[39m.\u001b[39;49m_query()\n\u001b[1;32m     <a href='file:///Users/marie-alix/Library/Python/3.8/lib/python/site-packages/instaloader/nodeiterator.py?line=92'>93</a>\u001b[0m \u001b[39mself\u001b[39m\u001b[39m.\u001b[39m_first_node: Optional[Dict] \u001b[39m=\u001b[39m \u001b[39mNone\u001b[39;00m\n",
      "File \u001b[0;32m~/Library/Python/3.8/lib/python/site-packages/instaloader/nodeiterator.py:101\u001b[0m, in \u001b[0;36mNodeIterator._query\u001b[0;34m(self, after)\u001b[0m\n\u001b[1;32m     <a href='file:///Users/marie-alix/Library/Python/3.8/lib/python/site-packages/instaloader/nodeiterator.py?line=97'>98</a>\u001b[0m     pagination_variables[\u001b[39m'\u001b[39m\u001b[39mafter\u001b[39m\u001b[39m'\u001b[39m] \u001b[39m=\u001b[39m after\n\u001b[1;32m     <a href='file:///Users/marie-alix/Library/Python/3.8/lib/python/site-packages/instaloader/nodeiterator.py?line=98'>99</a>\u001b[0m \u001b[39mtry\u001b[39;00m:\n\u001b[1;32m    <a href='file:///Users/marie-alix/Library/Python/3.8/lib/python/site-packages/instaloader/nodeiterator.py?line=99'>100</a>\u001b[0m     data \u001b[39m=\u001b[39m \u001b[39mself\u001b[39m\u001b[39m.\u001b[39m_edge_extractor(\n\u001b[0;32m--> <a href='file:///Users/marie-alix/Library/Python/3.8/lib/python/site-packages/instaloader/nodeiterator.py?line=100'>101</a>\u001b[0m         \u001b[39mself\u001b[39;49m\u001b[39m.\u001b[39;49m_context\u001b[39m.\u001b[39;49mgraphql_query(\n\u001b[1;32m    <a href='file:///Users/marie-alix/Library/Python/3.8/lib/python/site-packages/instaloader/nodeiterator.py?line=101'>102</a>\u001b[0m             \u001b[39mself\u001b[39;49m\u001b[39m.\u001b[39;49m_query_hash, {\u001b[39m*\u001b[39;49m\u001b[39m*\u001b[39;49m\u001b[39mself\u001b[39;49m\u001b[39m.\u001b[39;49m_query_variables, \u001b[39m*\u001b[39;49m\u001b[39m*\u001b[39;49mpagination_variables}, \u001b[39mself\u001b[39;49m\u001b[39m.\u001b[39;49m_query_referer\n\u001b[1;32m    <a href='file:///Users/marie-alix/Library/Python/3.8/lib/python/site-packages/instaloader/nodeiterator.py?line=102'>103</a>\u001b[0m         )\n\u001b[1;32m    <a href='file:///Users/marie-alix/Library/Python/3.8/lib/python/site-packages/instaloader/nodeiterator.py?line=103'>104</a>\u001b[0m     )\n\u001b[1;32m    <a href='file:///Users/marie-alix/Library/Python/3.8/lib/python/site-packages/instaloader/nodeiterator.py?line=104'>105</a>\u001b[0m     \u001b[39mself\u001b[39m\u001b[39m.\u001b[39m_best_before \u001b[39m=\u001b[39m datetime\u001b[39m.\u001b[39mnow() \u001b[39m+\u001b[39m NodeIterator\u001b[39m.\u001b[39m_shelf_life\n\u001b[1;32m    <a href='file:///Users/marie-alix/Library/Python/3.8/lib/python/site-packages/instaloader/nodeiterator.py?line=105'>106</a>\u001b[0m     \u001b[39mreturn\u001b[39;00m data\n",
      "File \u001b[0;32m~/Library/Python/3.8/lib/python/site-packages/instaloader/instaloadercontext.py:428\u001b[0m, in \u001b[0;36mInstaloaderContext.graphql_query\u001b[0;34m(self, query_hash, variables, referer, rhx_gis)\u001b[0m\n\u001b[1;32m    <a href='file:///Users/marie-alix/Library/Python/3.8/lib/python/site-packages/instaloader/instaloadercontext.py?line=424'>425</a>\u001b[0m         x_instagram_gis \u001b[39m=\u001b[39m hashlib\u001b[39m.\u001b[39mmd5(values\u001b[39m.\u001b[39mencode())\u001b[39m.\u001b[39mhexdigest()\n\u001b[1;32m    <a href='file:///Users/marie-alix/Library/Python/3.8/lib/python/site-packages/instaloader/instaloadercontext.py?line=425'>426</a>\u001b[0m         tmpsession\u001b[39m.\u001b[39mheaders[\u001b[39m'\u001b[39m\u001b[39mx-instagram-gis\u001b[39m\u001b[39m'\u001b[39m] \u001b[39m=\u001b[39m x_instagram_gis\n\u001b[0;32m--> <a href='file:///Users/marie-alix/Library/Python/3.8/lib/python/site-packages/instaloader/instaloadercontext.py?line=427'>428</a>\u001b[0m     resp_json \u001b[39m=\u001b[39m \u001b[39mself\u001b[39;49m\u001b[39m.\u001b[39;49mget_json(\u001b[39m'\u001b[39;49m\u001b[39mgraphql/query\u001b[39;49m\u001b[39m'\u001b[39;49m,\n\u001b[1;32m    <a href='file:///Users/marie-alix/Library/Python/3.8/lib/python/site-packages/instaloader/instaloadercontext.py?line=428'>429</a>\u001b[0m                               params\u001b[39m=\u001b[39;49m{\u001b[39m'\u001b[39;49m\u001b[39mquery_hash\u001b[39;49m\u001b[39m'\u001b[39;49m: query_hash,\n\u001b[1;32m    <a href='file:///Users/marie-alix/Library/Python/3.8/lib/python/site-packages/instaloader/instaloadercontext.py?line=429'>430</a>\u001b[0m                                       \u001b[39m'\u001b[39;49m\u001b[39mvariables\u001b[39;49m\u001b[39m'\u001b[39;49m: variables_json},\n\u001b[1;32m    <a href='file:///Users/marie-alix/Library/Python/3.8/lib/python/site-packages/instaloader/instaloadercontext.py?line=430'>431</a>\u001b[0m                               session\u001b[39m=\u001b[39;49mtmpsession)\n\u001b[1;32m    <a href='file:///Users/marie-alix/Library/Python/3.8/lib/python/site-packages/instaloader/instaloadercontext.py?line=431'>432</a>\u001b[0m \u001b[39mif\u001b[39;00m \u001b[39m'\u001b[39m\u001b[39mstatus\u001b[39m\u001b[39m'\u001b[39m \u001b[39mnot\u001b[39;00m \u001b[39min\u001b[39;00m resp_json:\n\u001b[1;32m    <a href='file:///Users/marie-alix/Library/Python/3.8/lib/python/site-packages/instaloader/instaloadercontext.py?line=432'>433</a>\u001b[0m     \u001b[39mself\u001b[39m\u001b[39m.\u001b[39merror(\u001b[39m\"\u001b[39m\u001b[39mGraphQL response did not contain a \u001b[39m\u001b[39m\\\"\u001b[39;00m\u001b[39mstatus\u001b[39m\u001b[39m\\\"\u001b[39;00m\u001b[39m field.\u001b[39m\u001b[39m\"\u001b[39m)\n",
      "File \u001b[0;32m~/Library/Python/3.8/lib/python/site-packages/instaloader/instaloadercontext.py:345\u001b[0m, in \u001b[0;36mInstaloaderContext.get_json\u001b[0;34m(self, path, params, host, session, _attempt)\u001b[0m\n\u001b[1;32m    <a href='file:///Users/marie-alix/Library/Python/3.8/lib/python/site-packages/instaloader/instaloadercontext.py?line=342'>343</a>\u001b[0m         \u001b[39mbreak\u001b[39;00m\n\u001b[1;32m    <a href='file:///Users/marie-alix/Library/Python/3.8/lib/python/site-packages/instaloader/instaloadercontext.py?line=343'>344</a>\u001b[0m \u001b[39mif\u001b[39;00m resp\u001b[39m.\u001b[39mstatus_code \u001b[39m==\u001b[39m \u001b[39m400\u001b[39m:\n\u001b[0;32m--> <a href='file:///Users/marie-alix/Library/Python/3.8/lib/python/site-packages/instaloader/instaloadercontext.py?line=344'>345</a>\u001b[0m     \u001b[39mraise\u001b[39;00m QueryReturnedBadRequestException(\u001b[39m\"\u001b[39m\u001b[39m400 Bad Request\u001b[39m\u001b[39m\"\u001b[39m)\n\u001b[1;32m    <a href='file:///Users/marie-alix/Library/Python/3.8/lib/python/site-packages/instaloader/instaloadercontext.py?line=345'>346</a>\u001b[0m \u001b[39mif\u001b[39;00m resp\u001b[39m.\u001b[39mstatus_code \u001b[39m==\u001b[39m \u001b[39m404\u001b[39m:\n\u001b[1;32m    <a href='file:///Users/marie-alix/Library/Python/3.8/lib/python/site-packages/instaloader/instaloadercontext.py?line=346'>347</a>\u001b[0m     \u001b[39mraise\u001b[39;00m QueryReturnedNotFoundException(\u001b[39m\"\u001b[39m\u001b[39m404 Not Found\u001b[39m\u001b[39m\"\u001b[39m)\n",
      "\u001b[0;31mQueryReturnedBadRequestException\u001b[0m: 400 Bad Request"
     ]
    }
   ],
   "source": [
    "import instaloader\n",
    "\n",
    "# Use parameters to save diffrent metadata\n",
    "L = instaloader.Instaloader(download_pictures=True,download_videos=False,download_comments=True,save_metadata=True, download_geotags=True)\n",
    "\n",
    "# Login\n",
    "L.login(user=\"dataviz2022\", passwd=\"dataviz2022!\")\n",
    "\n",
    "START = datetime(2011, 5, 28)\n",
    "END = datetime(2021, 5, 30)\n",
    "HASHTAG = \"streetart\"\n",
    "GraphQL_Hash = \"streetart\"\n",
    "posts = []\n",
    "\n",
    "post_iterator = instaloader.NodeIterator(\n",
    "    L.context, GraphQL_Hash,\n",
    "    lambda d: d['data']['hashtag']['edge_hashtag_to_media'],\n",
    "    lambda n: instaloader.Post(L.context, n),\n",
    "    {'tag_name': HASHTAG},\n",
    "    f\"https://www.instagram.com/explore/tags/{HASHTAG}/\"\n",
    ")\n",
    "        \n",
    "def gen(start, end, posts):\n",
    "    for post in posts:\n",
    "        if post.date > start and post.date > end:\n",
    "            pass\n",
    "        elif post.date >= start and post.date <= end:\n",
    "            yield post\n",
    "        elif post.date <= start:\n",
    "            break\n",
    "\n",
    "for post in gen(start=START, end=END, posts=post_iterator):\n",
    "    posts.append(post)"
   ]
  },
  {
   "cell_type": "code",
   "execution_count": null,
   "metadata": {},
   "outputs": [],
   "source": []
  }
 ],
 "metadata": {
  "interpreter": {
   "hash": "31f2aee4e71d21fbe5cf8b01ff0e069b9275f58929596ceb00d14d90e3e16cd6"
  },
  "kernelspec": {
   "display_name": "Python 3.8.9 64-bit",
   "language": "python",
   "name": "python3"
  },
  "language_info": {
   "codemirror_mode": {
    "name": "ipython",
    "version": 3
   },
   "file_extension": ".py",
   "mimetype": "text/x-python",
   "name": "python",
   "nbconvert_exporter": "python",
   "pygments_lexer": "ipython3",
   "version": "3.8.9"
  },
  "orig_nbformat": 4
 },
 "nbformat": 4,
 "nbformat_minor": 2
}
