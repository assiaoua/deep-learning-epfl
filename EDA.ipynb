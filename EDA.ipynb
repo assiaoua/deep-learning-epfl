{
 "cells": [
  {
   "cell_type": "markdown",
   "metadata": {},
   "source": [
    "# Exploratory Data Analysis"
   ]
  },
  {
   "cell_type": "code",
   "execution_count": 59,
   "metadata": {},
   "outputs": [
    {
     "data": {
      "text/plain": [
       "<torch._C.Generator at 0x7fd9845c4f70>"
      ]
     },
     "execution_count": 59,
     "metadata": {},
     "output_type": "execute_result"
    }
   ],
   "source": [
    "import torch \n",
    "import matplotlib.pyplot as plt\n",
    "torch.manual_seed(0)"
   ]
  },
  {
   "cell_type": "markdown",
   "metadata": {},
   "source": [
    "Let's upload our datasets:\n",
    "- train_data = the training data and corresponds to 50000 noisy pairs of images. Each of the 50000 pairs provided correspond to downsampled, pixelated images\n",
    "- val_data = validation file to track your progress "
   ]
  },
  {
   "cell_type": "code",
   "execution_count": 60,
   "metadata": {},
   "outputs": [],
   "source": [
    "noisy_imgs_1 , noisy_imgs_2 = torch.load('data/train_data.pkl')"
   ]
  },
  {
   "cell_type": "code",
   "execution_count": 61,
   "metadata": {},
   "outputs": [],
   "source": [
    "noisy_imgs, clean_imgs = torch.load('data/val_data.pkl')"
   ]
  },
  {
   "cell_type": "markdown",
   "metadata": {},
   "source": [
    "Let's print their shapes."
   ]
  },
  {
   "cell_type": "code",
   "execution_count": 62,
   "metadata": {},
   "outputs": [
    {
     "name": "stdout",
     "output_type": "stream",
     "text": [
      "Shape of noisy_imgs_1 torch.Size([50000, 3, 32, 32])\n",
      "Shape of noisy_imgs_2 torch.Size([50000, 3, 32, 32])\n",
      "Shape of noisy_imgs torch.Size([1000, 3, 32, 32])\n",
      "Shape of clean_imgs torch.Size([1000, 3, 32, 32])\n"
     ]
    }
   ],
   "source": [
    "print('Shape of noisy_imgs_1', noisy_imgs_1.shape)\n",
    "print('Shape of noisy_imgs_2', noisy_imgs_2.shape)\n",
    "print('Shape of noisy_imgs', noisy_imgs.shape)\n",
    "print('Shape of clean_imgs', clean_imgs.shape)"
   ]
  },
  {
   "cell_type": "markdown",
   "metadata": {},
   "source": [
    "Let's show one the images of all of our datasets."
   ]
  },
  {
   "cell_type": "code",
   "execution_count": 63,
   "metadata": {},
   "outputs": [
    {
     "data": {
      "image/png": "[encoded data removed]",
      "text/plain": [
       "<Figure size 576x576 with 4 Axes>"
      ]
     },
     "metadata": {
      "needs_background": "light"
     },
     "output_type": "display_data"
    }
   ],
   "source": [
    "plt.figure(figsize = (8,8))\n",
    "plt.subplot(2,2,1)\n",
    "plt.imshow(noisy_imgs_1[135,1])\n",
    "plt.subplot(2,2,2)\n",
    "plt.imshow(noisy_imgs_2[135,1])\n",
    "plt.subplot(2,2,3)\n",
    "plt.imshow(noisy_imgs[135,1])\n",
    "plt.subplot(2,2,4)\n",
    "plt.imshow(clean_imgs[135,1])\n",
    "plt.show()\n",
    "plt.show()"
   ]
  },
  {
   "cell_type": "markdown",
   "metadata": {},
   "source": [
    "We notice that the validation and train data is different. The train data is composed of 2 same images pixelated differently, while the validation data is composed of one noisy image and its correponding clean image. Notice that their shape is also different."
   ]
  },
  {
   "cell_type": "markdown",
   "metadata": {},
   "source": [
    "Before doing any further analysis, let's split our dataset into 2."
   ]
  },
  {
   "cell_type": "code",
   "execution_count": 64,
   "metadata": {},
   "outputs": [],
   "source": [
    "train_set_1, test_set_1 = torch.utils.data.random_split(noisy_imgs_1, [40000, 10000])\n",
    "train_set_2, test_set_2 = torch.utils.data.random_split(noisy_imgs_2, [40000, 10000])"
   ]
  },
  {
   "cell_type": "code",
   "execution_count": 68,
   "metadata": {},
   "outputs": [
    {
     "ename": "AttributeError",
     "evalue": "'Subset' object has no attribute 'shape'",
     "output_type": "error",
     "traceback": [
      "\u001b[0;31m---------------------------------------------------------------------------\u001b[0m",
      "\u001b[0;31mAttributeError\u001b[0m                            Traceback (most recent call last)",
      "\u001b[0;32m/var/folders/q2/625j9bfn7rxbjv61_zf0fc_40000gn/T/ipykernel_50590/924484360.py\u001b[0m in \u001b[0;36m<module>\u001b[0;34m\u001b[0m\n\u001b[0;32m----> 1\u001b[0;31m \u001b[0mprint\u001b[0m\u001b[0;34m(\u001b[0m\u001b[0;34m'Shape of train_set_1'\u001b[0m\u001b[0;34m,\u001b[0m \u001b[0mtrain_set_1\u001b[0m\u001b[0;34m.\u001b[0m\u001b[0mshape\u001b[0m\u001b[0;34m)\u001b[0m\u001b[0;34m\u001b[0m\u001b[0;34m\u001b[0m\u001b[0m\n\u001b[0m\u001b[1;32m      2\u001b[0m \u001b[0mprint\u001b[0m\u001b[0;34m(\u001b[0m\u001b[0;34m'Shape of test_set_1'\u001b[0m\u001b[0;34m,\u001b[0m \u001b[0mtest_set_1\u001b[0m\u001b[0;34m.\u001b[0m\u001b[0mshape\u001b[0m\u001b[0;34m)\u001b[0m\u001b[0;34m\u001b[0m\u001b[0;34m\u001b[0m\u001b[0m\n\u001b[1;32m      3\u001b[0m \u001b[0mprint\u001b[0m\u001b[0;34m(\u001b[0m\u001b[0;34m'Shape of train_set_2'\u001b[0m\u001b[0;34m,\u001b[0m \u001b[0mtrain_set_2\u001b[0m\u001b[0;34m.\u001b[0m\u001b[0mshape\u001b[0m\u001b[0;34m)\u001b[0m\u001b[0;34m\u001b[0m\u001b[0;34m\u001b[0m\u001b[0m\n\u001b[1;32m      4\u001b[0m \u001b[0mprint\u001b[0m\u001b[0;34m(\u001b[0m\u001b[0;34m'Shape of test_set_2'\u001b[0m\u001b[0;34m,\u001b[0m \u001b[0mtest_set_2\u001b[0m\u001b[0;34m.\u001b[0m\u001b[0mshape\u001b[0m\u001b[0;34m)\u001b[0m\u001b[0;34m\u001b[0m\u001b[0;34m\u001b[0m\u001b[0m\n",
      "\u001b[0;31mAttributeError\u001b[0m: 'Subset' object has no attribute 'shape'"
     ]
    }
   ],
   "source": [
    "print('Shape of train_set_1', train_set_1.shape)\n",
    "print('Shape of test_set_1', test_set_1.shape)\n",
    "print('Shape of train_set_2', train_set_2.shape)\n",
    "print('Shape of test_set_2', test_set_2.shape)"
   ]
  },
  {
   "cell_type": "code",
   "execution_count": null,
   "metadata": {},
   "outputs": [],
   "source": []
  }
 ],
 "metadata": {
  "interpreter": {
   "hash": "31f2aee4e71d21fbe5cf8b01ff0e069b9275f58929596ceb00d14d90e3e16cd6"
  },
  "kernelspec": {
   "display_name": "Python 3 (ipykernel)",
   "language": "python",
   "name": "python3"
  },
  "language_info": {
   "codemirror_mode": {
    "name": "ipython",
    "version": 3
   },
   "file_extension": ".py",
   "mimetype": "text/x-python",
   "name": "python",
   "nbconvert_exporter": "python",
   "pygments_lexer": "ipython3",
   "version": "3.9.7"
  }
 },
 "nbformat": 4,
 "nbformat_minor": 4
}
